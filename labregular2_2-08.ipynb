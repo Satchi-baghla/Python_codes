{
 "cells": [
  {
   "cell_type": "code",
   "execution_count": 13,
   "metadata": {},
   "outputs": [
    {
     "name": "stdout",
     "output_type": "stream",
     "text": [
      "[21, 75, 36, 21, 75]\n",
      "[2500, 784, 3844, 1296]\n",
      "34\n",
      "The list before removing duplicates :  [21, 50, 28, 75, 62, 41, 25, 31, 36, 55, 21, 75]\n",
      "The list after removing duplicates : [21, 50, 28, 75, 62, 41, 25, 31, 36, 55]\n"
     ]
    }
   ],
   "source": [
    "#1\n",
    "#domain = Income tax management system\n",
    "age = [21,50,28,75,62,41,25,31,36,55,21,75]\n",
    "\n",
    "#is the given list divisible by 3 or not\n",
    "y = []\n",
    "for x in age:\n",
    "    if x%3 == 0:\n",
    "        y.append(x)\n",
    "print(y)\n",
    "    \n",
    "#square of even numbers in a list\n",
    "even_sq = []\n",
    "for i in age:\n",
    "    if i%2 == 0:\n",
    "        even_sq.append(i*i)\n",
    "print(even_sq)\n",
    "\n",
    "#sum of digits of all even numbers in a list\n",
    "even_sum = 0\n",
    "for s in age:\n",
    "    for e in str(s):\n",
    "        if int(e) % 2 == 0:\n",
    "            even_sum += int(e)\n",
    "print(even_sum)\n",
    "\n",
    "#remove duplicate numbers in a list\n",
    "print(\"The list before removing duplicates : \" , age)\n",
    "res = []\n",
    "[res.append(x) for x in age  if x not in res]\n",
    " \n",
    "# printing list after removal\n",
    "print (\"The list after removing duplicates : \" + str(res))\n",
    "    "
   ]
  },
  {
   "cell_type": "code",
   "execution_count": 41,
   "metadata": {},
   "outputs": [
    {
     "name": "stdout",
     "output_type": "stream",
     "text": [
      "19 August 1995\n"
     ]
    }
   ],
   "source": [
    "#2\n",
    "#Create a dictionary to store the details of your company employees (name as key and birthdate as value).\n",
    "client = {\"Rajendra Baghla\": \"20 September 1970\", \"Aman Baghla\": \"19 August 1995\", \"Sambhav Kamra\": \"1 January 2000\", \"Ayush Agarwal\": \"23 March 1999\", \"Yashvi Chopra\": \"14 July 2001\", \"Nishant Nyol\": \"25 November 1998\"}\n",
    "\n",
    "def birthdate(name):\n",
    "    if name in client.keys():\n",
    "        print (client[name])\n",
    "        \n",
    "name = input(\"Enter the name of your client (Its case sensitive be carefull!!): \")\n",
    "birthdate(name)\n",
    "\n",
    "    "
   ]
  }
 ],
 "metadata": {
  "kernelspec": {
   "display_name": "Python 3",
   "language": "python",
   "name": "python3"
  },
  "language_info": {
   "codemirror_mode": {
    "name": "ipython",
    "version": 3
   },
   "file_extension": ".py",
   "mimetype": "text/x-python",
   "name": "python",
   "nbconvert_exporter": "python",
   "pygments_lexer": "ipython3",
   "version": "3.11.4"
  },
  "orig_nbformat": 4
 },
 "nbformat": 4,
 "nbformat_minor": 2
}
